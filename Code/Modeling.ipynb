{
 "cells": [
  {
   "cell_type": "code",
   "execution_count": 1,
   "metadata": {},
   "outputs": [],
   "source": [
    "import numpy as np\n",
    "import pandas as pd\n",
    "import matplotlib.pyplot as plt\n",
    "import seaborn as sns\n",
    "\n",
    "from sklearn.model_selection import train_test_split, GridSearchCV, cross_val_score\n",
    "from sklearn.pipeline import Pipeline\n",
    "from sklearn.metrics import mean_squared_error, ConfusionMatrixDisplay, recall_score, precision_score, f1_score\n",
    "from sklearn.linear_model import LogisticRegression\n",
    "from sklearn.neighbors import KNeighborsClassifier\n",
    "from sklearn.ensemble import (RandomForestClassifier,\n",
    "                              ExtraTreesClassifier,\n",
    "                              BaggingClassifier,\n",
    "                              AdaBoostClassifier)\n",
    "from sklearn.svm import SVC\n",
    "from sklearn.naive_bayes import MultinomialNB\n",
    "from sklearn.tree import DecisionTreeClassifier\n",
    "\n",
    "from sklearn.preprocessing import StandardScaler, OneHotEncoder\n",
    "from sklearn.compose import make_column_transformer"
   ]
  },
  {
   "cell_type": "code",
   "execution_count": 13,
   "metadata": {},
   "outputs": [],
   "source": [
    "def results(model,norm): #Taken from my project 3\n",
    "    \"\"\"\n",
    "    parameters:\n",
    "        model = takes in a fitted grid search model and retrieves the accuracy scores for it based on the train test split variables\n",
    "        norm = 'true' or 'false' (string) - Idicates whether to normalize the Confusion Matrix or not\n",
    "    \"\"\"\n",
    "    preds = model.predict(X_test_mct)\n",
    "    print('--------------------------------------------------')\n",
    "    print('Evaluations Scores:')\n",
    "    print(\"Accuracy Scores:\",model.score(X_train_mct, y_train), model.score(X_test_mct, y_test))\n",
    "    print(\"RMSE:\",mean_squared_error(y_test,preds,squared=False))\n",
    "    print(\"Recall Score:\",recall_score(y_test,preds))\n",
    "    print(\"Precision Score:\",precision_score(y_test,preds))\n",
    "    print(\"F1 Scores:\",f1_score(y_test,preds))\n",
    "    ConfusionMatrixDisplay.from_estimator(model,X_test_mct,y_test,cmap='Blues',normalize=norm);\n",
    "    print('--------------------------------------------------')"
   ]
  },
  {
   "cell_type": "code",
   "execution_count": 14,
   "metadata": {},
   "outputs": [],
   "source": [
    "df = pd.read_csv('../data/weather_cleaned.csv')"
   ]
  },
  {
   "cell_type": "code",
   "execution_count": 15,
   "metadata": {},
   "outputs": [
    {
     "data": {
      "text/plain": [
       "0    0.779741\n",
       "1    0.220259\n",
       "Name: RainTomorrow, dtype: float64"
      ]
     },
     "execution_count": 15,
     "metadata": {},
     "output_type": "execute_result"
    }
   ],
   "source": [
    "df['RainTomorrow'].value_counts(normalize=True)"
   ]
  },
  {
   "cell_type": "code",
   "execution_count": 16,
   "metadata": {},
   "outputs": [],
   "source": [
    "#df.info()"
   ]
  },
  {
   "cell_type": "code",
   "execution_count": 17,
   "metadata": {},
   "outputs": [],
   "source": [
    "#Ignoring the time-based sunshine and cloud observations for now\n",
    "X = df[['Location',\n",
    "        'MinTemp',\n",
    "        'MaxTemp',\n",
    "        'Rainfall',\n",
    "        'Evaporation',\n",
    "        'Sunshine',\n",
    "        'WindGustDir',\n",
    "        'WindGustSpeed',\n",
    "        'RainToday',\n",
    "        'Month']]\n",
    "y = df['RainTomorrow']"
   ]
  },
  {
   "cell_type": "code",
   "execution_count": 18,
   "metadata": {},
   "outputs": [],
   "source": [
    "X_train, X_test, y_train, y_test = train_test_split(X,y,random_state=42,stratify=y)"
   ]
  },
  {
   "cell_type": "code",
   "execution_count": 19,
   "metadata": {},
   "outputs": [],
   "source": [
    "mct = make_column_transformer(\n",
    "    (OneHotEncoder(drop='first', handle_unknown='ignore'),['Location','WindGustDir','Month']),\n",
    "    (StandardScaler(),['MinTemp',\n",
    "        'MaxTemp',\n",
    "        'Rainfall',\n",
    "        'Evaporation',\n",
    "        'Sunshine',\n",
    "        'WindGustSpeed'])\n",
    ")"
   ]
  },
  {
   "cell_type": "code",
   "execution_count": 20,
   "metadata": {},
   "outputs": [],
   "source": [
    "X_train_mct = mct.fit_transform(X_train)\n",
    "X_test_mct = mct.fit_transform(X_test)"
   ]
  },
  {
   "cell_type": "markdown",
   "metadata": {},
   "source": [
    "#### Tried seeing what would happen if I didn't transform the numerical features, turned out absolutely horrible on the logistic classifier. F1 Score of 0.00385"
   ]
  },
  {
   "cell_type": "code",
   "execution_count": 21,
   "metadata": {},
   "outputs": [],
   "source": [
    "encode = make_column_transformer(\n",
    "    (OneHotEncoder(drop='first', handle_unknown='ignore'),['Location','WindGustDir','Month'])\n",
    ")\n",
    "X_train_enc = encode.fit_transform(X_train)\n",
    "X_test_enc = encode.fit_transform(X_test)"
   ]
  },
  {
   "cell_type": "markdown",
   "metadata": {},
   "source": [
    "### Logistic Regression (No Grid Search)"
   ]
  },
  {
   "cell_type": "code",
   "execution_count": 22,
   "metadata": {},
   "outputs": [
    {
     "name": "stdout",
     "output_type": "stream",
     "text": [
      "--------------------------------------------------\n",
      "Evaluations Scores:\n",
      "Accuracy Scores: 0.8304383788254756 0.8304856433888692\n",
      "RMSE: 0.41172121224334657\n",
      "Recall Score: 0.45896363051174766\n",
      "Precision Score: 0.6676029962546817\n",
      "F1 Scores: 0.5439633797444211\n",
      "--------------------------------------------------\n"
     ]
    },
    {
     "data": {
      "image/png": "[encoded data removed]",
      "text/plain": [
       "<Figure size 432x288 with 2 Axes>"
      ]
     },
     "metadata": {
      "needs_background": "light"
     },
     "output_type": "display_data"
    }
   ],
   "source": [
    "logr = LogisticRegression()\n",
    "logr.fit(X_train_mct,y_train)\n",
    "results(logr,'true')"
   ]
  },
  {
   "cell_type": "code",
   "execution_count": 23,
   "metadata": {},
   "outputs": [
    {
     "name": "stdout",
     "output_type": "stream",
     "text": [
      "--------------------------------------------------\n",
      "Evaluations Scores:\n",
      "Accuracy Scores: 0.8246012052463665 0.8206309819213045\n",
      "RMSE: 0.4235197965605569\n",
      "Recall Score: 0.4110074026392018\n",
      "Precision Score: 0.6459281740010117\n",
      "F1 Scores: 0.502360346184107\n",
      "--------------------------------------------------\n"
     ]
    },
    {
     "data": {
      "image/png": "[encoded data removed]",
      "text/plain": [
       "<Figure size 432x288 with 2 Axes>"
      ]
     },
     "metadata": {
      "needs_background": "light"
     },
     "output_type": "display_data"
    }
   ],
   "source": [
    "dtc = DecisionTreeClassifier(max_depth=5)\n",
    "dtc.fit(X_train_mct,y_train)\n",
    "results(dtc,'true')"
   ]
  },
  {
   "cell_type": "code",
   "execution_count": 24,
   "metadata": {},
   "outputs": [
    {
     "name": "stdout",
     "output_type": "stream",
     "text": [
      "--------------------------------------------------\n",
      "Evaluations Scores:\n",
      "Accuracy Scores: 0.8420181968569065 0.8345267635590217\n",
      "RMSE: 0.40678401694385485\n",
      "Recall Score: 0.47183778564531703\n",
      "Precision Score: 0.6790180639184807\n",
      "F1 Scores: 0.5567793391568553\n",
      "--------------------------------------------------\n"
     ]
    },
    {
     "data": {
      "image/png": "[encoded data removed]",
      "text/plain": [
       "<Figure size 432x288 with 2 Axes>"
      ]
     },
     "metadata": {
      "needs_background": "light"
     },
     "output_type": "display_data"
    }
   ],
   "source": [
    "bc = BaggingClassifier(max_samples = 0.03, n_estimators = 100)\n",
    "bc.fit(X_train_mct,y_train)\n",
    "results(bc,'true')"
   ]
  },
  {
   "cell_type": "code",
   "execution_count": 25,
   "metadata": {},
   "outputs": [
    {
     "name": "stdout",
     "output_type": "stream",
     "text": [
      "--------------------------------------------------\n",
      "Evaluations Scores:\n",
      "Accuracy Scores: 0.791705069124424 0.7903580290677065\n",
      "RMSE: 0.45786676111320146\n",
      "Recall Score: 0.05568072095268748\n",
      "Precision Score: 0.8826530612244898\n",
      "F1 Scores: 0.10475325461701483\n",
      "--------------------------------------------------\n"
     ]
    },
    {
     "data": {
      "image/png": "[encoded data removed]",
      "text/plain": [
       "<Figure size 432x288 with 2 Axes>"
      ]
     },
     "metadata": {
      "needs_background": "light"
     },
     "output_type": "display_data"
    }
   ],
   "source": [
    "rfc = RandomForestClassifier(max_depth = 5, n_estimators=100)\n",
    "rfc.fit(X_train_mct,y_train)\n",
    "results(rfc,'true')"
   ]
  },
  {
   "cell_type": "code",
   "execution_count": 26,
   "metadata": {},
   "outputs": [
    {
     "name": "stdout",
     "output_type": "stream",
     "text": [
      "--------------------------------------------------\n",
      "Evaluations Scores:\n",
      "Accuracy Scores: 0.8315963606286187 0.8288550159517901\n",
      "RMSE: 0.4136967295594804\n",
      "Recall Score: 0.4824589636305118\n",
      "Precision Score: 0.6503253796095445\n",
      "F1 Scores: 0.5539541759053954\n",
      "--------------------------------------------------\n"
     ]
    },
    {
     "data": {
      "image/png": "[encoded data removed]",
      "text/plain": [
       "<Figure size 432x288 with 2 Axes>"
      ]
     },
     "metadata": {
      "needs_background": "light"
     },
     "output_type": "display_data"
    }
   ],
   "source": [
    "ada = AdaBoostClassifier()\n",
    "ada.fit(X_train_mct,y_train)\n",
    "results(ada,'true')"
   ]
  },
  {
   "cell_type": "code",
   "execution_count": null,
   "metadata": {},
   "outputs": [],
   "source": []
  },
  {
   "cell_type": "code",
   "execution_count": null,
   "metadata": {},
   "outputs": [],
   "source": []
  }
 ],
 "metadata": {
  "kernelspec": {
   "display_name": "Python 3",
   "language": "python",
   "name": "python3"
  },
  "language_info": {
   "codemirror_mode": {
    "name": "ipython",
    "version": 3
   },
   "file_extension": ".py",
   "mimetype": "text/x-python",
   "name": "python",
   "nbconvert_exporter": "python",
   "pygments_lexer": "ipython3",
   "version": "3.7.4"
  }
 },
 "nbformat": 4,
 "nbformat_minor": 4
}
